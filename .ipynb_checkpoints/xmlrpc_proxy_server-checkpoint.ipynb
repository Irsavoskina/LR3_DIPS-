{
 "cells": [
  {
   "cell_type": "code",
   "execution_count": null,
   "id": "be0a0340",
   "metadata": {},
   "outputs": [
    {
     "name": "stdout",
     "output_type": "stream",
     "text": [
      "Proxy server starting. Listening on port 8073...\n"
     ]
    },
    {
     "name": "stderr",
     "output_type": "stream",
     "text": [
      "127.0.0.1 - - [06/Dec/2023 13:45:01] \"POST /RPC2 HTTP/1.1\" 200 -\n",
      "127.0.0.1 - - [06/Dec/2023 13:45:31] \"POST /RPC2 HTTP/1.1\" 200 -\n",
      "127.0.0.1 - - [06/Dec/2023 13:46:45] \"POST /RPC2 HTTP/1.1\" 200 -\n",
      "127.0.0.1 - - [06/Dec/2023 13:46:47] \"POST /RPC2 HTTP/1.1\" 200 -\n",
      "127.0.0.1 - - [06/Dec/2023 13:46:48] \"POST /RPC2 HTTP/1.1\" 200 -\n",
      "127.0.0.1 - - [06/Dec/2023 13:46:56] \"POST /RPC2 HTTP/1.1\" 200 -\n",
      "127.0.0.1 - - [06/Dec/2023 13:47:02] \"POST /RPC2 HTTP/1.1\" 200 -\n",
      "127.0.0.1 - - [06/Dec/2023 13:47:03] \"POST /RPC2 HTTP/1.1\" 200 -\n",
      "127.0.0.1 - - [06/Dec/2023 13:47:04] \"POST /RPC2 HTTP/1.1\" 200 -\n",
      "127.0.0.1 - - [06/Dec/2023 13:47:04] \"POST /RPC2 HTTP/1.1\" 200 -\n",
      "127.0.0.1 - - [06/Dec/2023 13:47:04] \"POST /RPC2 HTTP/1.1\" 200 -\n"
     ]
    }
   ],
   "source": [
    "import xmlrpc.server \n",
    "import xmlrpc.client \n",
    "from datetime import datetime\n",
    "\n",
    "class RequestHandler(xmlrpc.server.SimpleXMLRPCRequestHandler):\n",
    "    rpc_paths = ('/RPC2',)\n",
    "\n",
    "server = xmlrpc.server.SimpleXMLRPCServer((\"localhost\", 8073), \n",
    "                            requestHandler=RequestHandler)\n",
    "\n",
    "main_server = xmlrpc.client.ServerProxy(\"http://localhost:8071\")\n",
    "stats_server = xmlrpc.client.ServerProxy(\"http://localhost:8072\")\n",
    "\n",
    "def proxy(action, act_type, args):\n",
    "    #result = False\n",
    "    start = datetime.now()\n",
    "    result = action(*args)\n",
    "    duration = datetime.now() - start \n",
    "    result = action(*args)\n",
    "    try:    \n",
    "        stats_server.add_to_log(act_type, start.strftime(\"%Y-%m-%d %H:%M:%S\"), str(duration.seconds))\n",
    "    except:\n",
    "        print (\"Сервер не отвечает\")\n",
    "    return result\n",
    "\n",
    "def black_list_check(*args):\n",
    "    return proxy(main_server.black_list_check, \"black_list_check\", args)\n",
    "\n",
    "def send_back_binary(*args):\n",
    "    return proxy(main_server.send_back_binary, \"send_back_binary\", args)\n",
    "\n",
    "def send_back_inversion(*args):\n",
    "    return proxy(main_server.send_back_inversion, \"send_back_inversion\", args)\n",
    "\n",
    "def send_back_bin(*args):\n",
    "    return proxy(main_server.send_back_bin, \"send_back_bin\", args)\n",
    "\n",
    "def send_back_vturn(*args):\n",
    "    return proxy(main_server.send_back_vturn, \"send_back_vturn\", args)\n",
    "\n",
    "server.register_function(black_list_check, 'black_list_check')\n",
    "server.register_function(send_back_binary, 'send_back_binary')\n",
    "server.register_function(send_back_inversion, 'send_back_inversion')\n",
    "server.register_function(send_back_bin, 'send_back_bin')\n",
    "server.register_function(send_back_vturn, 'send_back_vturn')\n",
    "\n",
    "print(\"Proxy server starting. Listening on port 8073...\")\n",
    "server.serve_forever()\n",
    "print(\"Log server is unavailable\")"
   ]
  },
  {
   "cell_type": "code",
   "execution_count": null,
   "id": "c703dac4",
   "metadata": {},
   "outputs": [],
   "source": []
  }
 ],
 "metadata": {
  "kernelspec": {
   "display_name": "Python 3 (ipykernel)",
   "language": "python",
   "name": "python3"
  },
  "language_info": {
   "codemirror_mode": {
    "name": "ipython",
    "version": 3
   },
   "file_extension": ".py",
   "mimetype": "text/x-python",
   "name": "python",
   "nbconvert_exporter": "python",
   "pygments_lexer": "ipython3",
   "version": "3.11.4"
  }
 },
 "nbformat": 4,
 "nbformat_minor": 5
}
