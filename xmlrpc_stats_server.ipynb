{
 "cells": [
  {
   "cell_type": "markdown",
   "metadata": {},
   "source": [
    "#### Файл сервера xmlrpc_stats_server_p3.ipynb на Python 3 "
   ]
  },
  {
   "cell_type": "code",
   "execution_count": 1,
   "metadata": {},
   "outputs": [],
   "source": [
    "\n",
    "from xmlrpc.server import SimpleXMLRPCServer\n",
    "from xmlrpc.server import SimpleXMLRPCRequestHandler\n",
    "\n",
    "import sqlite3\n",
    "\n",
    "class RequestHandler(SimpleXMLRPCRequestHandler):\n",
    "    rpc_paths = ('/RPC2',)\n",
    "\n",
    "server = SimpleXMLRPCServer((\"localhost\", 8072), \n",
    "                            requestHandler=RequestHandler)\n",
    "#server.register_introspection_functions() \n"
   ]
  },
  {
   "cell_type": "code",
   "execution_count": null,
   "metadata": {},
   "outputs": [
    {
     "name": "stdout",
     "output_type": "stream",
     "text": [
      "Listening on port 8072...\n",
      "Listening on port 8072...\n"
     ]
    },
    {
     "name": "stderr",
     "output_type": "stream",
     "text": [
      "127.0.0.1 - - [06/Dec/2023 13:45:01] \"POST /RPC2 HTTP/1.1\" 200 -\n",
      "127.0.0.1 - - [06/Dec/2023 13:45:01] \"POST /RPC2 HTTP/1.1\" 200 -\n",
      "127.0.0.1 - - [06/Dec/2023 13:45:31] \"POST /RPC2 HTTP/1.1\" 200 -\n",
      "127.0.0.1 - - [06/Dec/2023 13:45:31] \"POST /RPC2 HTTP/1.1\" 200 -\n",
      "127.0.0.1 - - [06/Dec/2023 13:46:45] \"POST /RPC2 HTTP/1.1\" 200 -\n",
      "127.0.0.1 - - [06/Dec/2023 13:46:45] \"POST /RPC2 HTTP/1.1\" 200 -\n",
      "127.0.0.1 - - [06/Dec/2023 13:46:47] \"POST /RPC2 HTTP/1.1\" 200 -\n",
      "127.0.0.1 - - [06/Dec/2023 13:46:47] \"POST /RPC2 HTTP/1.1\" 200 -\n",
      "127.0.0.1 - - [06/Dec/2023 13:46:48] \"POST /RPC2 HTTP/1.1\" 200 -\n",
      "127.0.0.1 - - [06/Dec/2023 13:46:48] \"POST /RPC2 HTTP/1.1\" 200 -\n",
      "127.0.0.1 - - [06/Dec/2023 13:46:56] \"POST /RPC2 HTTP/1.1\" 200 -\n",
      "127.0.0.1 - - [06/Dec/2023 13:46:56] \"POST /RPC2 HTTP/1.1\" 200 -\n",
      "127.0.0.1 - - [06/Dec/2023 13:47:02] \"POST /RPC2 HTTP/1.1\" 200 -\n",
      "127.0.0.1 - - [06/Dec/2023 13:47:02] \"POST /RPC2 HTTP/1.1\" 200 -\n",
      "127.0.0.1 - - [06/Dec/2023 13:47:03] \"POST /RPC2 HTTP/1.1\" 200 -\n",
      "127.0.0.1 - - [06/Dec/2023 13:47:03] \"POST /RPC2 HTTP/1.1\" 200 -\n",
      "127.0.0.1 - - [06/Dec/2023 13:47:04] \"POST /RPC2 HTTP/1.1\" 200 -\n",
      "127.0.0.1 - - [06/Dec/2023 13:47:04] \"POST /RPC2 HTTP/1.1\" 200 -\n",
      "127.0.0.1 - - [06/Dec/2023 13:47:04] \"POST /RPC2 HTTP/1.1\" 200 -\n",
      "127.0.0.1 - - [06/Dec/2023 13:47:04] \"POST /RPC2 HTTP/1.1\" 200 -\n",
      "127.0.0.1 - - [06/Dec/2023 13:47:04] \"POST /RPC2 HTTP/1.1\" 200 -\n",
      "127.0.0.1 - - [06/Dec/2023 13:47:04] \"POST /RPC2 HTTP/1.1\" 200 -\n",
      "127.0.0.1 - - [06/Dec/2023 13:47:04] \"POST /RPC2 HTTP/1.1\" 200 -\n",
      "127.0.0.1 - - [06/Dec/2023 13:47:04] \"POST /RPC2 HTTP/1.1\" 200 -\n",
      "127.0.0.1 - - [06/Dec/2023 13:47:04] \"POST /RPC2 HTTP/1.1\" 200 -\n",
      "127.0.0.1 - - [06/Dec/2023 13:47:04] \"POST /RPC2 HTTP/1.1\" 200 -\n",
      "127.0.0.1 - - [06/Dec/2023 13:47:04] \"POST /RPC2 HTTP/1.1\" 200 -\n",
      "127.0.0.1 - - [06/Dec/2023 13:47:04] \"POST /RPC2 HTTP/1.1\" 200 -\n"
     ]
    }
   ],
   "source": [
    "#Создание БД\n",
    "connection = sqlite3.connect(\"log.db\")\n",
    "cursor = connection.cursor()\n",
    "#Создание таблицы\n",
    "cursor.execute('''CREATE TABLE IF NOT EXISTS logs \n",
    "               (id INTEGER PRIMARY KEY,\n",
    "                event TEXT NOT NULL, \n",
    "                starttime TEXT NOT NULL, \n",
    "                duration TEXT NOT NULL)''')\n",
    "connection.set_trace_callback(print)\n",
    "connection.commit()\n",
    "cursor.close()\n",
    "connection.close()\n",
    "\n",
    "#Добавление логов в таблицу logs\n",
    "def add_to_log(event, start, duration):\n",
    "    connection = sqlite3.connect(\"log.db\")\n",
    "    cursor = connection.cursor()\n",
    "    cursor.execute(\"INSERT INTO logs VALUES (NULL, ?, ? ,?)\", (str(event), start, duration))\n",
    "    connection.commit()\n",
    "    cursor.close()\n",
    "    connection.close()\n",
    "    return True\n",
    "server.register_function(add_to_log, 'add_to_log')\n",
    "\n",
    "def get_log_event(event):\n",
    "    connection = sqlite3.connect(\"log.db\")\n",
    "    cursor = connection.cursor()\n",
    "    cursor.execute('SELECT * FROM logs WHERE event == ?', (event,))\n",
    "    connection.commit()\n",
    "    result = cursor.fetchall()\n",
    "    cursor.close()\n",
    "    connection.close()\n",
    "    return result\n",
    "server.register_function(get_log_event, 'get_log_event')\n",
    "    \n",
    "def get_log_datetime(start, stop):\n",
    "    connection = sqlite3.connect(\"log.db\")\n",
    "    cursor = connection.cursor()\n",
    "    cursor.execute('SELECT * FROM logs WHERE starttime >= ? AND starttime <= ?', (start, stop))\n",
    "    connection.commit()\n",
    "    result = cursor.fetchall()\n",
    "    cursor.close()\n",
    "    connection.close()\n",
    "    return result\n",
    "server.register_function(get_log_datetime, 'get_log_datetime')\n",
    "\n",
    "def get_log_duration(one_duration, two_duration):\n",
    "    connection = sqlite3.connect(\"log.db\")\n",
    "    cursor = connection.cursor()\n",
    "    cursor.execute('SELECT * FROM logs WHERE duration >= ? AND duration <= ?', (one_duration, two_duration))\n",
    "    connection.commit()\n",
    "    result = cursor.fetchall()\n",
    "    cursor.close()\n",
    "    connection.close()\n",
    "    return result\n",
    "server.register_function(get_log_duration, 'get_log_duration')\n",
    "                   \n",
    "print (\"Listening on port 8072...\")\n",
    "server.serve_forever()"
   ]
  },
  {
   "cell_type": "code",
   "execution_count": null,
   "metadata": {},
   "outputs": [],
   "source": []
  },
  {
   "cell_type": "code",
   "execution_count": null,
   "metadata": {},
   "outputs": [],
   "source": []
  },
  {
   "cell_type": "code",
   "execution_count": null,
   "metadata": {},
   "outputs": [],
   "source": []
  },
  {
   "cell_type": "code",
   "execution_count": null,
   "metadata": {},
   "outputs": [],
   "source": []
  }
 ],
 "metadata": {
  "kernelspec": {
   "display_name": "Python 3 (ipykernel)",
   "language": "python",
   "name": "python3"
  },
  "language_info": {
   "codemirror_mode": {
    "name": "ipython",
    "version": 3
   },
   "file_extension": ".py",
   "mimetype": "text/x-python",
   "name": "python",
   "nbconvert_exporter": "python",
   "pygments_lexer": "ipython3",
   "version": "3.11.4"
  }
 },
 "nbformat": 4,
 "nbformat_minor": 2
}
